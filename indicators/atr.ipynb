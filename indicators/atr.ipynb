{
 "cells": [
  {
   "cell_type": "code",
   "execution_count": 1,
   "id": "8745f605",
   "metadata": {},
   "outputs": [
    {
     "name": "stderr",
     "output_type": "stream",
     "text": [
      "/var/folders/kc/2zjkkg9574zf4g7j1_795gzh0000gn/T/ipykernel_50622/927133223.py:8: FutureWarning: YF.download() has changed argument auto_adjust default to True\n",
      "  temp = yf.download(ticker,period=\"1mo\", interval=\"5m\" , multi_level_index=False)\n",
      "[*********************100%***********************]  1 of 1 completed\n",
      "/var/folders/kc/2zjkkg9574zf4g7j1_795gzh0000gn/T/ipykernel_50622/927133223.py:8: FutureWarning: YF.download() has changed argument auto_adjust default to True\n",
      "  temp = yf.download(ticker,period=\"1mo\", interval=\"5m\" , multi_level_index=False)\n",
      "[*********************100%***********************]  1 of 1 completed\n",
      "/var/folders/kc/2zjkkg9574zf4g7j1_795gzh0000gn/T/ipykernel_50622/927133223.py:8: FutureWarning: YF.download() has changed argument auto_adjust default to True\n",
      "  temp = yf.download(ticker,period=\"1mo\", interval=\"5m\" , multi_level_index=False)\n",
      "[*********************100%***********************]  1 of 1 completed\n"
     ]
    }
   ],
   "source": [
    "import yfinance as yf\n",
    "\n",
    "tickers  = [\"AMZN\", \"GOOG\", \"FB\"]\n",
    "\n",
    "ohlcv_data = {}\n",
    "\n",
    "for ticker in tickers:\n",
    "    temp = yf.download(ticker,period=\"1mo\", interval=\"5m\" , multi_level_index=False)\n",
    "    temp.dropna()\n",
    "    ohlcv_data[ticker] = temp\n",
    "\n",
    "\n",
    "\n"
   ]
  },
  {
   "cell_type": "code",
   "execution_count": 9,
   "id": "931d9b47",
   "metadata": {},
   "outputs": [],
   "source": [
    "def ATR(DF, n = 14):\n",
    "    df = DF.copy()\n",
    "    df['HL'] = df['High'] - df['Low']\n",
    "    df['HPC'] = df['High'] - df['Close'].shift(1)\n",
    "    df['LPC'] = df['Low'] - df['Close'].shift(1)\n",
    "\n",
    "    df['TR'] = df[['HL', 'HPC', 'LPC']].max(axis =1, skipna=False) # axis 1 is required because the sum is needed row wise\n",
    "    df['ATR'] = df['TR'].ewm(span = n, min_periods=n).mean() # exponential moving avg for getting the ATR from TR\n",
    "    return df['ATR']"
   ]
  },
  {
   "cell_type": "code",
   "execution_count": null,
   "id": "1989dd0a",
   "metadata": {},
   "outputs": [],
   "source": [
    "for tickers in ohlcv_data:\n",
    "    ohlcv_data[ticker]['ATR'] = ATR(ohlcv_data[ticker])\n",
    "\n"
   ]
  }
 ],
 "metadata": {
  "kernelspec": {
   "display_name": "quant",
   "language": "python",
   "name": "python3"
  },
  "language_info": {
   "codemirror_mode": {
    "name": "ipython",
    "version": 3
   },
   "file_extension": ".py",
   "mimetype": "text/x-python",
   "name": "python",
   "nbconvert_exporter": "python",
   "pygments_lexer": "ipython3",
   "version": "3.12.9"
  }
 },
 "nbformat": 4,
 "nbformat_minor": 5
}
