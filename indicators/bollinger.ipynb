{
 "cells": [
  {
   "cell_type": "code",
   "execution_count": 1,
   "id": "ed336faa",
   "metadata": {},
   "outputs": [
    {
     "name": "stderr",
     "output_type": "stream",
     "text": [
      "/var/folders/kc/2zjkkg9574zf4g7j1_795gzh0000gn/T/ipykernel_51144/3399213170.py:8: FutureWarning: YF.download() has changed argument auto_adjust default to True\n",
      "  temp = yf.download(ticker,period=\"1mo\", interval=\"5m\" , multi_level_index=False)\n",
      "[*********************100%***********************]  1 of 1 completed\n",
      "/var/folders/kc/2zjkkg9574zf4g7j1_795gzh0000gn/T/ipykernel_51144/3399213170.py:8: FutureWarning: YF.download() has changed argument auto_adjust default to True\n",
      "  temp = yf.download(ticker,period=\"1mo\", interval=\"5m\" , multi_level_index=False)\n",
      "[*********************100%***********************]  1 of 1 completed\n",
      "/var/folders/kc/2zjkkg9574zf4g7j1_795gzh0000gn/T/ipykernel_51144/3399213170.py:8: FutureWarning: YF.download() has changed argument auto_adjust default to True\n",
      "  temp = yf.download(ticker,period=\"1mo\", interval=\"5m\" , multi_level_index=False)\n",
      "[*********************100%***********************]  1 of 1 completed\n"
     ]
    }
   ],
   "source": [
    "import yfinance as yf\n",
    "\n",
    "tickers  = [\"AMZN\", \"GOOG\", \"FB\"]\n",
    "\n",
    "ohlcv_data = {}\n",
    "\n",
    "for ticker in tickers:\n",
    "    temp = yf.download(ticker,period=\"1mo\", interval=\"5m\" , multi_level_index=False)\n",
    "    temp.dropna()\n",
    "    ohlcv_data[ticker] = temp"
   ]
  },
  {
   "cell_type": "code",
   "execution_count": 2,
   "id": "0f62bfaf",
   "metadata": {},
   "outputs": [],
   "source": [
    "def bollingerBand(DF, n= 2, m=20):\n",
    "    df = DF.copy()\n",
    "    df[\"middle_band\"] = df['Close'].rolling(m).mean()\n",
    "    df['upper_band'] = df['middle_band'] + df['Close'].rolling(2).std(ddof=0)\n",
    "    df['lower_band'] = df['middle_band'] - df['Close'].rolling(2).std(ddof=0) # ddof is the degree of freedom and its imp to kept 0\n",
    "    return df['middle_band'] , df['upper_band'] , df['lower_band']\n",
    "\n"
   ]
  }
 ],
 "metadata": {
  "kernelspec": {
   "display_name": "quant",
   "language": "python",
   "name": "python3"
  },
  "language_info": {
   "codemirror_mode": {
    "name": "ipython",
    "version": 3
   },
   "file_extension": ".py",
   "mimetype": "text/x-python",
   "name": "python",
   "nbconvert_exporter": "python",
   "pygments_lexer": "ipython3",
   "version": "3.12.9"
  }
 },
 "nbformat": 4,
 "nbformat_minor": 5
}
